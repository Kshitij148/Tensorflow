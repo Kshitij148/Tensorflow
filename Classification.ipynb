{
 "cells": [
  {
   "cell_type": "code",
   "execution_count": 39,
   "metadata": {},
   "outputs": [],
   "source": [
    "import numpy as np\n",
    "import pandas as pd\n",
    "import matplotlib as plt\n",
    "from IPython.display import clear_output"
   ]
  },
  {
   "cell_type": "code",
   "execution_count": 40,
   "metadata": {},
   "outputs": [],
   "source": [
    "import tensorflow as tf"
   ]
  },
  {
   "cell_type": "code",
   "execution_count": 56,
   "metadata": {},
   "outputs": [],
   "source": [
    "csv_column_names=['SepalLength','SepalWidth','PetalLength','PetalWidth','Species']\n",
    "species=['Setosa','Versicolor','Virginica']"
   ]
  },
  {
   "cell_type": "code",
   "execution_count": 42,
   "metadata": {},
   "outputs": [],
   "source": [
    "#storing dataset in the keras dataset folder with the name mentioned in the get_file()\n",
    "\n",
    "train_path=tf.keras.utils.get_file(\n",
    "\"iris_training.csv\",\"https://storage.googleapis.com/download.tensorflow.org/data/iris_training.csv\")\n",
    "\n",
    "test_path=tf.keras.utils.get_file(\n",
    "\"iris_test.csv\",\"https://storage.googleapis.com/download.tensorflow.org/data/iris_test.csv\")"
   ]
  },
  {
   "cell_type": "code",
   "execution_count": 43,
   "metadata": {},
   "outputs": [
    {
     "data": {
      "text/plain": [
       "'C:\\\\Users\\\\hp\\\\.keras\\\\datasets\\\\iris_training.csv'"
      ]
     },
     "execution_count": 43,
     "metadata": {},
     "output_type": "execute_result"
    }
   ],
   "source": [
    "train_path"
   ]
  },
  {
   "cell_type": "code",
   "execution_count": 44,
   "metadata": {},
   "outputs": [],
   "source": [
    "train=pd.read_csv(train_path,names=csv_column_names,header=0)\n",
    "test=pd.read_csv(test_path,names=csv_column_names,header=0)\n",
    "\n"
   ]
  },
  {
   "cell_type": "code",
   "execution_count": 45,
   "metadata": {},
   "outputs": [
    {
     "data": {
      "text/html": [
       "<div>\n",
       "<style scoped>\n",
       "    .dataframe tbody tr th:only-of-type {\n",
       "        vertical-align: middle;\n",
       "    }\n",
       "\n",
       "    .dataframe tbody tr th {\n",
       "        vertical-align: top;\n",
       "    }\n",
       "\n",
       "    .dataframe thead th {\n",
       "        text-align: right;\n",
       "    }\n",
       "</style>\n",
       "<table border=\"1\" class=\"dataframe\">\n",
       "  <thead>\n",
       "    <tr style=\"text-align: right;\">\n",
       "      <th></th>\n",
       "      <th>SepalLength</th>\n",
       "      <th>SepalWidth</th>\n",
       "      <th>PetalLength</th>\n",
       "      <th>PetalWidth</th>\n",
       "      <th>Species</th>\n",
       "    </tr>\n",
       "  </thead>\n",
       "  <tbody>\n",
       "    <tr>\n",
       "      <th>0</th>\n",
       "      <td>6.4</td>\n",
       "      <td>2.8</td>\n",
       "      <td>5.6</td>\n",
       "      <td>2.2</td>\n",
       "      <td>2</td>\n",
       "    </tr>\n",
       "    <tr>\n",
       "      <th>1</th>\n",
       "      <td>5.0</td>\n",
       "      <td>2.3</td>\n",
       "      <td>3.3</td>\n",
       "      <td>1.0</td>\n",
       "      <td>1</td>\n",
       "    </tr>\n",
       "    <tr>\n",
       "      <th>2</th>\n",
       "      <td>4.9</td>\n",
       "      <td>2.5</td>\n",
       "      <td>4.5</td>\n",
       "      <td>1.7</td>\n",
       "      <td>2</td>\n",
       "    </tr>\n",
       "    <tr>\n",
       "      <th>3</th>\n",
       "      <td>4.9</td>\n",
       "      <td>3.1</td>\n",
       "      <td>1.5</td>\n",
       "      <td>0.1</td>\n",
       "      <td>0</td>\n",
       "    </tr>\n",
       "    <tr>\n",
       "      <th>4</th>\n",
       "      <td>5.7</td>\n",
       "      <td>3.8</td>\n",
       "      <td>1.7</td>\n",
       "      <td>0.3</td>\n",
       "      <td>0</td>\n",
       "    </tr>\n",
       "  </tbody>\n",
       "</table>\n",
       "</div>"
      ],
      "text/plain": [
       "   SepalLength  SepalWidth  PetalLength  PetalWidth  Species\n",
       "0          6.4         2.8          5.6         2.2        2\n",
       "1          5.0         2.3          3.3         1.0        1\n",
       "2          4.9         2.5          4.5         1.7        2\n",
       "3          4.9         3.1          1.5         0.1        0\n",
       "4          5.7         3.8          1.7         0.3        0"
      ]
     },
     "execution_count": 45,
     "metadata": {},
     "output_type": "execute_result"
    }
   ],
   "source": [
    "train.head() #print first 5 rows of dataframe"
   ]
  },
  {
   "cell_type": "code",
   "execution_count": 46,
   "metadata": {},
   "outputs": [
    {
     "data": {
      "text/html": [
       "<div>\n",
       "<style scoped>\n",
       "    .dataframe tbody tr th:only-of-type {\n",
       "        vertical-align: middle;\n",
       "    }\n",
       "\n",
       "    .dataframe tbody tr th {\n",
       "        vertical-align: top;\n",
       "    }\n",
       "\n",
       "    .dataframe thead th {\n",
       "        text-align: right;\n",
       "    }\n",
       "</style>\n",
       "<table border=\"1\" class=\"dataframe\">\n",
       "  <thead>\n",
       "    <tr style=\"text-align: right;\">\n",
       "      <th></th>\n",
       "      <th>SepalLength</th>\n",
       "      <th>SepalWidth</th>\n",
       "      <th>PetalLength</th>\n",
       "      <th>PetalWidth</th>\n",
       "    </tr>\n",
       "  </thead>\n",
       "  <tbody>\n",
       "    <tr>\n",
       "      <th>0</th>\n",
       "      <td>6.4</td>\n",
       "      <td>2.8</td>\n",
       "      <td>5.6</td>\n",
       "      <td>2.2</td>\n",
       "    </tr>\n",
       "    <tr>\n",
       "      <th>1</th>\n",
       "      <td>5.0</td>\n",
       "      <td>2.3</td>\n",
       "      <td>3.3</td>\n",
       "      <td>1.0</td>\n",
       "    </tr>\n",
       "    <tr>\n",
       "      <th>2</th>\n",
       "      <td>4.9</td>\n",
       "      <td>2.5</td>\n",
       "      <td>4.5</td>\n",
       "      <td>1.7</td>\n",
       "    </tr>\n",
       "    <tr>\n",
       "      <th>3</th>\n",
       "      <td>4.9</td>\n",
       "      <td>3.1</td>\n",
       "      <td>1.5</td>\n",
       "      <td>0.1</td>\n",
       "    </tr>\n",
       "    <tr>\n",
       "      <th>4</th>\n",
       "      <td>5.7</td>\n",
       "      <td>3.8</td>\n",
       "      <td>1.7</td>\n",
       "      <td>0.3</td>\n",
       "    </tr>\n",
       "  </tbody>\n",
       "</table>\n",
       "</div>"
      ],
      "text/plain": [
       "   SepalLength  SepalWidth  PetalLength  PetalWidth\n",
       "0          6.4         2.8          5.6         2.2\n",
       "1          5.0         2.3          3.3         1.0\n",
       "2          4.9         2.5          4.5         1.7\n",
       "3          4.9         3.1          1.5         0.1\n",
       "4          5.7         3.8          1.7         0.3"
      ]
     },
     "execution_count": 46,
     "metadata": {},
     "output_type": "execute_result"
    }
   ],
   "source": [
    "train_y=train.pop('Species')  #train labels\n",
    "test_y=test.pop('Species')    #test labels\n",
    "\n",
    "train.head()"
   ]
  },
  {
   "cell_type": "code",
   "execution_count": 47,
   "metadata": {},
   "outputs": [
    {
     "data": {
      "text/html": [
       "<div>\n",
       "<style scoped>\n",
       "    .dataframe tbody tr th:only-of-type {\n",
       "        vertical-align: middle;\n",
       "    }\n",
       "\n",
       "    .dataframe tbody tr th {\n",
       "        vertical-align: top;\n",
       "    }\n",
       "\n",
       "    .dataframe thead th {\n",
       "        text-align: right;\n",
       "    }\n",
       "</style>\n",
       "<table border=\"1\" class=\"dataframe\">\n",
       "  <thead>\n",
       "    <tr style=\"text-align: right;\">\n",
       "      <th></th>\n",
       "      <th>SepalLength</th>\n",
       "      <th>SepalWidth</th>\n",
       "      <th>PetalLength</th>\n",
       "      <th>PetalWidth</th>\n",
       "    </tr>\n",
       "  </thead>\n",
       "  <tbody>\n",
       "    <tr>\n",
       "      <th>0</th>\n",
       "      <td>6.4</td>\n",
       "      <td>2.8</td>\n",
       "      <td>5.6</td>\n",
       "      <td>2.2</td>\n",
       "    </tr>\n",
       "    <tr>\n",
       "      <th>1</th>\n",
       "      <td>5.0</td>\n",
       "      <td>2.3</td>\n",
       "      <td>3.3</td>\n",
       "      <td>1.0</td>\n",
       "    </tr>\n",
       "    <tr>\n",
       "      <th>2</th>\n",
       "      <td>4.9</td>\n",
       "      <td>2.5</td>\n",
       "      <td>4.5</td>\n",
       "      <td>1.7</td>\n",
       "    </tr>\n",
       "    <tr>\n",
       "      <th>3</th>\n",
       "      <td>4.9</td>\n",
       "      <td>3.1</td>\n",
       "      <td>1.5</td>\n",
       "      <td>0.1</td>\n",
       "    </tr>\n",
       "    <tr>\n",
       "      <th>4</th>\n",
       "      <td>5.7</td>\n",
       "      <td>3.8</td>\n",
       "      <td>1.7</td>\n",
       "      <td>0.3</td>\n",
       "    </tr>\n",
       "  </tbody>\n",
       "</table>\n",
       "</div>"
      ],
      "text/plain": [
       "   SepalLength  SepalWidth  PetalLength  PetalWidth\n",
       "0          6.4         2.8          5.6         2.2\n",
       "1          5.0         2.3          3.3         1.0\n",
       "2          4.9         2.5          4.5         1.7\n",
       "3          4.9         3.1          1.5         0.1\n",
       "4          5.7         3.8          1.7         0.3"
      ]
     },
     "execution_count": 47,
     "metadata": {},
     "output_type": "execute_result"
    }
   ],
   "source": [
    "train.head()"
   ]
  },
  {
   "cell_type": "code",
   "execution_count": 48,
   "metadata": {},
   "outputs": [],
   "source": [
    "def input_fn(features,labels,training=True,batch_size=256):\n",
    "    \n",
    "    #convert the inputs to a Datset\n",
    "    dataset= tf.data.Dataset.from_tensor_slices((dict(features),labels))\n",
    "    \n",
    "    #shuffle amd repeat if you are in training mode\n",
    "    if training:\n",
    "        dataset=dataset.shuffle(1000).repeat()\n",
    "    #repeat will repeat all the elements of datset again and again indefinitely\n",
    "    #repeat() does step into an infinite loop. \n",
    "    #If you wonder how training could have been finished, the documentation indicates that steps argument has been provided in\n",
    "    #classifier.train(input_fn=lambda: input_fn(train, train_y, training=True), steps=5000) so even though the loop is infinite, the optimizer know how many steps to perform.\n",
    "        \n",
    "    ds= dataset.batch(batch_size)  #specify the size of batch to be made\n",
    "    \n",
    "    return ds\n"
   ]
  },
  {
   "cell_type": "code",
   "execution_count": 49,
   "metadata": {},
   "outputs": [
    {
     "name": "stdout",
     "output_type": "stream",
     "text": [
      "[NumericColumn(key='SepalLength', shape=(1,), default_value=None, dtype=tf.float32, normalizer_fn=None), NumericColumn(key='SepalWidth', shape=(1,), default_value=None, dtype=tf.float32, normalizer_fn=None), NumericColumn(key='PetalLength', shape=(1,), default_value=None, dtype=tf.float32, normalizer_fn=None), NumericColumn(key='PetalWidth', shape=(1,), default_value=None, dtype=tf.float32, normalizer_fn=None)]\n"
     ]
    }
   ],
   "source": [
    "#Feature columns descripbe how to use the input\n",
    "\n",
    "my_feature_columns=[]\n",
    "\n",
    "#train.keys() gives list of all the columns of the train dataframe\n",
    "\n",
    "for key in train.keys():\n",
    "    my_feature_columns.append(tf.feature_column.numeric_column(key))\n",
    "    \n",
    "print(my_feature_columns)\n",
    "    "
   ]
  },
  {
   "cell_type": "code",
   "execution_count": 50,
   "metadata": {},
   "outputs": [
    {
     "name": "stdout",
     "output_type": "stream",
     "text": [
      "INFO:tensorflow:Using default config.\n",
      "WARNING:tensorflow:Using temporary folder as model directory: C:\\Users\\hp\\AppData\\Local\\Temp\\tmp2yxt46u1\n",
      "INFO:tensorflow:Using config: {'_model_dir': 'C:\\\\Users\\\\hp\\\\AppData\\\\Local\\\\Temp\\\\tmp2yxt46u1', '_tf_random_seed': None, '_save_summary_steps': 100, '_save_checkpoints_steps': None, '_save_checkpoints_secs': 600, '_session_config': allow_soft_placement: true\n",
      "graph_options {\n",
      "  rewrite_options {\n",
      "    meta_optimizer_iterations: ONE\n",
      "  }\n",
      "}\n",
      ", '_keep_checkpoint_max': 5, '_keep_checkpoint_every_n_hours': 10000, '_log_step_count_steps': 100, '_train_distribute': None, '_device_fn': None, '_protocol': None, '_eval_distribute': None, '_experimental_distribute': None, '_experimental_max_worker_delay_secs': None, '_session_creation_timeout_secs': 7200, '_service': None, '_cluster_spec': ClusterSpec({}), '_task_type': 'worker', '_task_id': 0, '_global_id_in_cluster': 0, '_master': '', '_evaluation_master': '', '_is_chief': True, '_num_ps_replicas': 0, '_num_worker_replicas': 1}\n"
     ]
    }
   ],
   "source": [
    "#build a DNN with 2 hidden layers with 30 and 10 hidden nodes\n",
    "\n",
    "classifier=tf.estimator.DNNClassifier(\n",
    "    feature_columns=my_feature_columns,\n",
    "    #two hidden layers of 30 and 10 nides respectively\n",
    "    hidden_units=[30,10],\n",
    "    #the model must choose between 3 classes\n",
    "    n_classes=3\n",
    ")"
   ]
  },
  {
   "cell_type": "code",
   "execution_count": 51,
   "metadata": {},
   "outputs": [
    {
     "name": "stdout",
     "output_type": "stream",
     "text": [
      "INFO:tensorflow:Calling model_fn.\n",
      "WARNING:tensorflow:Layer dnn is casting an input tensor from dtype float64 to the layer's dtype of float32, which is new behavior in TensorFlow 2.  The layer has dtype float32 because its dtype defaults to floatx.\n",
      "\n",
      "If you intended to run this layer in float32, you can safely ignore this warning. If in doubt, this warning is likely only an issue if you are porting a TensorFlow 1.X model to TensorFlow 2.\n",
      "\n",
      "To change all layers to have dtype float64 by default, call `tf.keras.backend.set_floatx('float64')`. To change just this layer, pass dtype='float64' to the layer constructor. If you are the author of this layer, you can disable autocasting by passing autocast=False to the base Layer constructor.\n",
      "\n",
      "INFO:tensorflow:Done calling model_fn.\n",
      "INFO:tensorflow:Create CheckpointSaverHook.\n",
      "INFO:tensorflow:Graph was finalized.\n",
      "INFO:tensorflow:Running local_init_op.\n",
      "INFO:tensorflow:Done running local_init_op.\n",
      "INFO:tensorflow:Calling checkpoint listeners before saving checkpoint 0...\n",
      "INFO:tensorflow:Saving checkpoints for 0 into C:\\Users\\hp\\AppData\\Local\\Temp\\tmp2yxt46u1\\model.ckpt.\n",
      "INFO:tensorflow:Calling checkpoint listeners after saving checkpoint 0...\n",
      "INFO:tensorflow:loss = 1.5384499, step = 0\n",
      "INFO:tensorflow:global_step/sec: 521.283\n",
      "INFO:tensorflow:loss = 1.1057739, step = 100 (0.193 sec)\n",
      "INFO:tensorflow:global_step/sec: 644.414\n",
      "INFO:tensorflow:loss = 1.071194, step = 200 (0.157 sec)\n",
      "INFO:tensorflow:global_step/sec: 511.299\n",
      "INFO:tensorflow:loss = 1.050106, step = 300 (0.196 sec)\n",
      "INFO:tensorflow:global_step/sec: 616.931\n",
      "INFO:tensorflow:loss = 1.0353942, step = 400 (0.162 sec)\n",
      "INFO:tensorflow:global_step/sec: 651.282\n",
      "INFO:tensorflow:loss = 1.0172944, step = 500 (0.152 sec)\n",
      "INFO:tensorflow:global_step/sec: 541.777\n",
      "INFO:tensorflow:loss = 1.0079522, step = 600 (0.187 sec)\n",
      "INFO:tensorflow:global_step/sec: 538.701\n",
      "INFO:tensorflow:loss = 0.96324956, step = 700 (0.186 sec)\n",
      "INFO:tensorflow:global_step/sec: 679.325\n",
      "INFO:tensorflow:loss = 0.91592926, step = 800 (0.146 sec)\n",
      "INFO:tensorflow:global_step/sec: 626.285\n",
      "INFO:tensorflow:loss = 0.88475144, step = 900 (0.161 sec)\n",
      "INFO:tensorflow:global_step/sec: 529.314\n",
      "INFO:tensorflow:loss = 0.8488114, step = 1000 (0.188 sec)\n",
      "INFO:tensorflow:global_step/sec: 631.017\n",
      "INFO:tensorflow:loss = 0.82371235, step = 1100 (0.157 sec)\n",
      "INFO:tensorflow:global_step/sec: 654.701\n",
      "INFO:tensorflow:loss = 0.80841166, step = 1200 (0.154 sec)\n",
      "INFO:tensorflow:global_step/sec: 504.831\n",
      "INFO:tensorflow:loss = 0.7798121, step = 1300 (0.199 sec)\n",
      "INFO:tensorflow:global_step/sec: 639.835\n",
      "INFO:tensorflow:loss = 0.77587897, step = 1400 (0.154 sec)\n",
      "INFO:tensorflow:global_step/sec: 638.925\n",
      "INFO:tensorflow:loss = 0.7540282, step = 1500 (0.157 sec)\n",
      "INFO:tensorflow:global_step/sec: 676.565\n",
      "INFO:tensorflow:loss = 0.73568034, step = 1600 (0.148 sec)\n",
      "INFO:tensorflow:global_step/sec: 648.532\n",
      "INFO:tensorflow:loss = 0.72104883, step = 1700 (0.154 sec)\n",
      "INFO:tensorflow:global_step/sec: 533.057\n",
      "INFO:tensorflow:loss = 0.7162943, step = 1800 (0.187 sec)\n",
      "INFO:tensorflow:global_step/sec: 533.543\n",
      "INFO:tensorflow:loss = 0.69844174, step = 1900 (0.186 sec)\n",
      "INFO:tensorflow:global_step/sec: 669.696\n",
      "INFO:tensorflow:loss = 0.6831447, step = 2000 (0.150 sec)\n",
      "INFO:tensorflow:global_step/sec: 645.058\n",
      "INFO:tensorflow:loss = 0.67237896, step = 2100 (0.155 sec)\n",
      "INFO:tensorflow:global_step/sec: 655.265\n",
      "INFO:tensorflow:loss = 0.6514552, step = 2200 (0.152 sec)\n",
      "INFO:tensorflow:global_step/sec: 524.675\n",
      "INFO:tensorflow:loss = 0.65143836, step = 2300 (0.192 sec)\n",
      "INFO:tensorflow:global_step/sec: 529.441\n",
      "INFO:tensorflow:loss = 0.6348624, step = 2400 (0.190 sec)\n",
      "INFO:tensorflow:global_step/sec: 510.899\n",
      "INFO:tensorflow:loss = 0.62492186, step = 2500 (0.195 sec)\n",
      "INFO:tensorflow:global_step/sec: 497.185\n",
      "INFO:tensorflow:loss = 0.62450236, step = 2600 (0.201 sec)\n",
      "INFO:tensorflow:global_step/sec: 490.725\n",
      "INFO:tensorflow:loss = 0.6034165, step = 2700 (0.205 sec)\n",
      "INFO:tensorflow:global_step/sec: 658.782\n",
      "INFO:tensorflow:loss = 0.6008296, step = 2800 (0.151 sec)\n",
      "INFO:tensorflow:global_step/sec: 672.136\n",
      "INFO:tensorflow:loss = 0.5944787, step = 2900 (0.149 sec)\n",
      "INFO:tensorflow:global_step/sec: 643.708\n",
      "INFO:tensorflow:loss = 0.5837511, step = 3000 (0.155 sec)\n",
      "INFO:tensorflow:global_step/sec: 491.38\n",
      "INFO:tensorflow:loss = 0.57616436, step = 3100 (0.203 sec)\n",
      "INFO:tensorflow:global_step/sec: 666.642\n",
      "INFO:tensorflow:loss = 0.56901217, step = 3200 (0.151 sec)\n",
      "INFO:tensorflow:global_step/sec: 671.528\n",
      "INFO:tensorflow:loss = 0.5575683, step = 3300 (0.148 sec)\n",
      "INFO:tensorflow:global_step/sec: 584.144\n",
      "INFO:tensorflow:loss = 0.5491165, step = 3400 (0.173 sec)\n",
      "INFO:tensorflow:global_step/sec: 546.921\n",
      "INFO:tensorflow:loss = 0.5451188, step = 3500 (0.183 sec)\n",
      "INFO:tensorflow:global_step/sec: 649.82\n",
      "INFO:tensorflow:loss = 0.5319227, step = 3600 (0.153 sec)\n",
      "INFO:tensorflow:global_step/sec: 663.795\n",
      "INFO:tensorflow:loss = 0.5243052, step = 3700 (0.151 sec)\n",
      "INFO:tensorflow:global_step/sec: 613.956\n",
      "INFO:tensorflow:loss = 0.5237862, step = 3800 (0.163 sec)\n",
      "INFO:tensorflow:global_step/sec: 534.444\n",
      "INFO:tensorflow:loss = 0.51058936, step = 3900 (0.188 sec)\n",
      "INFO:tensorflow:global_step/sec: 593.365\n",
      "INFO:tensorflow:loss = 0.5133581, step = 4000 (0.167 sec)\n",
      "INFO:tensorflow:global_step/sec: 666.522\n",
      "INFO:tensorflow:loss = 0.49941793, step = 4100 (0.149 sec)\n",
      "INFO:tensorflow:global_step/sec: 653.827\n",
      "INFO:tensorflow:loss = 0.49388632, step = 4200 (0.154 sec)\n",
      "INFO:tensorflow:global_step/sec: 697.774\n",
      "INFO:tensorflow:loss = 0.49007553, step = 4300 (0.143 sec)\n",
      "INFO:tensorflow:global_step/sec: 657.613\n",
      "INFO:tensorflow:loss = 0.48850888, step = 4400 (0.151 sec)\n",
      "INFO:tensorflow:global_step/sec: 680.708\n",
      "INFO:tensorflow:loss = 0.47166115, step = 4500 (0.148 sec)\n",
      "INFO:tensorflow:global_step/sec: 674.345\n",
      "INFO:tensorflow:loss = 0.46589684, step = 4600 (0.148 sec)\n",
      "INFO:tensorflow:global_step/sec: 683.576\n",
      "INFO:tensorflow:loss = 0.45860082, step = 4700 (0.147 sec)\n",
      "INFO:tensorflow:global_step/sec: 581.395\n",
      "INFO:tensorflow:loss = 0.46037406, step = 4800 (0.173 sec)\n",
      "INFO:tensorflow:global_step/sec: 484.365\n",
      "INFO:tensorflow:loss = 0.45095682, step = 4900 (0.204 sec)\n",
      "INFO:tensorflow:Calling checkpoint listeners before saving checkpoint 5000...\n",
      "INFO:tensorflow:Saving checkpoints for 5000 into C:\\Users\\hp\\AppData\\Local\\Temp\\tmp2yxt46u1\\model.ckpt.\n",
      "INFO:tensorflow:Calling checkpoint listeners after saving checkpoint 5000...\n",
      "INFO:tensorflow:Loss for final step: 0.44994944.\n"
     ]
    },
    {
     "data": {
      "text/plain": [
       "<tensorflow_estimator.python.estimator.canned.dnn.DNNClassifierV2 at 0x1146d815a30>"
      ]
     },
     "execution_count": 51,
     "metadata": {},
     "output_type": "execute_result"
    }
   ],
   "source": [
    "classifier.train(input_fn=lambda:input_fn(train,train_y,training=True),steps=5000)\n",
    "#lambda is a anonymous function that can be used to write a one line function\n",
    "#train model requires a input_function object\n",
    "#lambda returns a input function object\n",
    "#look at the datset 5000 times\n",
    "#during one step, assuming that my batch size is 20, it means that 20 pictures will be processed and will be used to update the gradients of my model once."
   ]
  },
  {
   "cell_type": "code",
   "execution_count": 52,
   "metadata": {},
   "outputs": [
    {
     "name": "stdout",
     "output_type": "stream",
     "text": [
      "INFO:tensorflow:Calling model_fn.\n",
      "WARNING:tensorflow:Layer dnn is casting an input tensor from dtype float64 to the layer's dtype of float32, which is new behavior in TensorFlow 2.  The layer has dtype float32 because its dtype defaults to floatx.\n",
      "\n",
      "If you intended to run this layer in float32, you can safely ignore this warning. If in doubt, this warning is likely only an issue if you are porting a TensorFlow 1.X model to TensorFlow 2.\n",
      "\n",
      "To change all layers to have dtype float64 by default, call `tf.keras.backend.set_floatx('float64')`. To change just this layer, pass dtype='float64' to the layer constructor. If you are the author of this layer, you can disable autocasting by passing autocast=False to the base Layer constructor.\n",
      "\n",
      "INFO:tensorflow:Done calling model_fn.\n",
      "INFO:tensorflow:Starting evaluation at 2021-06-16T18:58:13Z\n",
      "INFO:tensorflow:Graph was finalized.\n",
      "INFO:tensorflow:Restoring parameters from C:\\Users\\hp\\AppData\\Local\\Temp\\tmp2yxt46u1\\model.ckpt-5000\n",
      "INFO:tensorflow:Running local_init_op.\n",
      "INFO:tensorflow:Done running local_init_op.\n",
      "INFO:tensorflow:Inference Time : 0.24870s\n",
      "INFO:tensorflow:Finished evaluation at 2021-06-16-18:58:13\n",
      "INFO:tensorflow:Saving dict for global step 5000: accuracy = 0.9, average_loss = 0.5126056, global_step = 5000, loss = 0.5126056\n",
      "INFO:tensorflow:Saving 'checkpoint_path' summary for global step 5000: C:\\Users\\hp\\AppData\\Local\\Temp\\tmp2yxt46u1\\model.ckpt-5000\n"
     ]
    }
   ],
   "source": [
    "eval_result=classifier.evaluate(input_fn=lambda:input_fn(test,test_y,training=False))\n"
   ]
  },
  {
   "cell_type": "code",
   "execution_count": 53,
   "metadata": {},
   "outputs": [
    {
     "data": {
      "text/plain": [
       "{'accuracy': 0.9,\n",
       " 'average_loss': 0.5126056,\n",
       " 'loss': 0.5126056,\n",
       " 'global_step': 5000}"
      ]
     },
     "execution_count": 53,
     "metadata": {},
     "output_type": "execute_result"
    }
   ],
   "source": [
    "eval_result"
   ]
  },
  {
   "cell_type": "code",
   "execution_count": 54,
   "metadata": {},
   "outputs": [],
   "source": [
    "def input_fn(features,batch_size=256):\n",
    "    #convert the inputs to a Dataset withut labels\n",
    "    return tf.data.Dataset.from_tensor_slices(dict(features)).batch(batch_size)"
   ]
  },
  {
   "cell_type": "code",
   "execution_count": 63,
   "metadata": {},
   "outputs": [
    {
     "name": "stdout",
     "output_type": "stream",
     "text": [
      "please type numeric values as prompted\n",
      "SepalLength: 6.9\n",
      "SepalWidth: 3.1\n",
      "PetalLength: 5.4\n",
      "PetalWidth: 2.1\n",
      "INFO:tensorflow:Calling model_fn.\n",
      "INFO:tensorflow:Done calling model_fn.\n",
      "INFO:tensorflow:Graph was finalized.\n",
      "INFO:tensorflow:Restoring parameters from C:\\Users\\hp\\AppData\\Local\\Temp\\tmp2yxt46u1\\model.ckpt-5000\n",
      "INFO:tensorflow:Running local_init_op.\n",
      "INFO:tensorflow:Done running local_init_op.\n",
      "{'logits': array([-0.56559944,  1.3770562 ,  2.1247473 ], dtype=float32), 'probabilities': array([0.04402563, 0.3071781 , 0.64879626], dtype=float32), 'class_ids': array([2], dtype=int64), 'classes': array([b'2'], dtype=object), 'all_class_ids': array([0, 1, 2]), 'all_classes': array([b'0', b'1', b'2'], dtype=object)}\n",
      "Virginica 64.87962603569031\n"
     ]
    }
   ],
   "source": [
    "features=['SepalLength','SepalWidth',\"PetalLength\",\"PetalWidth\"]\n",
    "\n",
    "predict={}\n",
    "\n",
    "print(\"please type numeric values as prompted\")\n",
    "for feature in features:\n",
    "    val=input(feature + \": \")\n",
    "    predict[feature]=[float(val)]\n",
    "    \n",
    "prediction=classifier.predict(input_fn=lambda:input_fn(predict))\n",
    "for pred_dict in prediction:\n",
    "    class_id=pred_dict[\"class_ids\"][0]\n",
    "    probability=pred_dict[\"probabilities\"][class_id]\n",
    "    \n",
    " \n",
    "    print(pred_dict)\n",
    "    print(species[class_id],100*probability)\n",
    "                \n",
    "            "
   ]
  },
  {
   "cell_type": "code",
   "execution_count": null,
   "metadata": {},
   "outputs": [],
   "source": []
  },
  {
   "cell_type": "code",
   "execution_count": null,
   "metadata": {},
   "outputs": [],
   "source": []
  }
 ],
 "metadata": {
  "kernelspec": {
   "display_name": "Python 3",
   "language": "python",
   "name": "python3"
  },
  "language_info": {
   "codemirror_mode": {
    "name": "ipython",
    "version": 3
   },
   "file_extension": ".py",
   "mimetype": "text/x-python",
   "name": "python",
   "nbconvert_exporter": "python",
   "pygments_lexer": "ipython3",
   "version": "3.8.3"
  }
 },
 "nbformat": 4,
 "nbformat_minor": 4
}
